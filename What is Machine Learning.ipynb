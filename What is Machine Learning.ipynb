{
 "cells": [
  {
   "attachments": {},
   "cell_type": "markdown",
   "metadata": {},
   "source": [
    "### ¿Que es machine Learning?\n",
    "\n",
    "Capacidad de un algoritmo de adquirir conocimientos a partir de observaciones, aprender  de los datos para mejorar, describir y predecir resultados.\n",
    "- Definir problema.\n",
    "- Construccion del modelo y evaluación.\n",
    "- Deploy y mejoras.\n"
   ]
  },
  {
   "attachments": {},
   "cell_type": "markdown",
   "metadata": {},
   "source": [
    "### Estrategias de Aprendisaje en Machine Learning.\n",
    "- Apredizaje Supervisado: Permite al algoritmo aprender a partir de datos previamente ateiquetados.\n",
    "- Aprenizaje no Supervisado: El algortimo aprende de datos sin etiquetas, es decir encuentra similitudes y relaciones, agrupando y clasificando los datos."
   ]
  }
 ],
 "metadata": {
  "kernelspec": {
   "display_name": "Python 3",
   "language": "python",
   "name": "python3"
  },
  "language_info": {
   "name": "python",
   "version": "3.10.6"
  },
  "orig_nbformat": 4,
  "vscode": {
   "interpreter": {
    "hash": "916dbcbb3f70747c44a77c7bcd40155683ae19c65e1c03b4aa3499c5328201f1"
   }
  }
 },
 "nbformat": 4,
 "nbformat_minor": 2
}
